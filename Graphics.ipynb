{
 "cells": [
  {
   "cell_type": "code",
   "execution_count": 4,
   "metadata": {},
   "outputs": [],
   "source": [
    "from QueryDissolve.Dissolver import Dissolver\n",
    "from BuildRelations.RelationExtraction import RelationExtraction"
   ]
  },
  {
   "cell_type": "code",
   "execution_count": 5,
   "metadata": {},
   "outputs": [],
   "source": [
    "connection_string = 'DRIVER={ODBC Driver 18 for SQL Server};Server=(localdb)\\MSSQLLocalDb;database=testDb;'\n",
    "path = 'c:\\\\users\\\\basti\\\\Desktop\\\\ba\\\\test_querys\\\\relations\\\\asts\\\\'\n",
    "\n",
    "rex = RelationExtraction(connection_string=connection_string)\n",
    "\n",
    "\n",
    "def setup(file):\n",
    "    dsv = Dissolver()\n",
    "    dsv.load_single(path + file)\n",
    "    rex.set_relations(dsv.get_dissolved())\n",
    "    rex.aggregate()\n",
    "    rex.build_rels()\n"
   ]
  },
  {
   "cell_type": "code",
   "execution_count": 6,
   "metadata": {},
   "outputs": [
    {
     "data": {
      "text/html": [
       "<img src=\"https://mermaid.ink/img/ZXJEaWFncmFtCgl0NSB7CgoJfQoJdDggewoKCX0KCW5ldyB7CgoJfQoJdDkgewoKCX0KCXQ3IHsKCgl9Cgl0MSB7CgoJfQoJdDIgewoKCX0KCXQ2IHsKCgl9Cgl0MTAgewoKCX0KCXQ1IHx8LS18fCB0OCA6IHNhbWUJdDggfW8tLXx8IG5ldyA6IGludGVyc2VjdGlvbgl0OSB9by0tfHwgbmV3IDogaW50ZXJzZWN0aW9uCXQ3IHx8LS1vfCB0NSA6IHNwZWNpYWwJdDEgfW8tLXx8IHQyIDogZm9yZWlnbgl0MiB9by0tfHwgdDYgOiB3ZWFrCXQ5IH1vLS18fCB0MTAgOiByZWd1bGFyCXQ4IH1vLS18fCB0MTAgOiByZWd1bGFy\"/>"
      ],
      "text/plain": [
       "<IPython.core.display.Image object>"
      ]
     },
     "execution_count": 6,
     "metadata": {},
     "output_type": "execute_result"
    }
   ],
   "source": [
    "dsv = Dissolver()\n",
    "dsv.load_from_directory(path)\n",
    "rex = RelationExtraction(connection_string=connection_string, relations=dsv.get_dissolved())\n",
    "rex.aggregate()\n",
    "rex.build_rels()\n",
    "rex.show_erm()\n"
   ]
  }
 ],
 "metadata": {
  "kernelspec": {
   "display_name": "Python 3",
   "language": "python",
   "name": "python3"
  },
  "language_info": {
   "codemirror_mode": {
    "name": "ipython",
    "version": 3
   },
   "file_extension": ".py",
   "mimetype": "text/x-python",
   "name": "python",
   "nbconvert_exporter": "python",
   "pygments_lexer": "ipython3",
   "version": "3.11.0"
  }
 },
 "nbformat": 4,
 "nbformat_minor": 2
}
