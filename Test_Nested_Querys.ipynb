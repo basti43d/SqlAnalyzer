{
 "cells": [
  {
   "cell_type": "code",
   "execution_count": null,
   "metadata": {},
   "outputs": [],
   "source": [
    "import json\n",
    "from QueryAnalyzing.AnalyzeAst import AnalyzeAst\n",
    "from os.path import join"
   ]
  },
  {
   "cell_type": "code",
   "execution_count": 112,
   "metadata": {},
   "outputs": [],
   "source": [
    "path = 'c:\\\\users\\\\basti\\\\Desktop\\\\ba\\\\tests\\\\nested_querys\\\\asts'\n",
    "ana = AnalyzeAst()\n",
    "\n",
    "defs = dict()\n",
    "rels = dict()\n",
    "\n",
    "def test(file):\n",
    "    with open(join(path, file), 'r') as f:\n",
    "        ast = f.read()\n",
    "    name = file.split('.')[0]\n",
    "    ana.set_ast(ast, name)\n",
    "    ana.dissolve_query()\n",
    "\n",
    "    print('relations:')\n",
    "    ana.print_relations()\n",
    "\n",
    "    print('\\ntop-level projections:')\n",
    "    ana.print_top_level_projections()\n",
    "\n",
    "    print('\\nbase tables:')\n",
    "    print(ana.repr.B)\n",
    "\n",
    "    print('\\nH:')\n",
    "    ana.print_H()\n",
    "\n",
    "    ana.append_top_level_relations(defs)\n",
    "    ana.append_join_expressions(rels)\n"
   ]
  },
  {
   "cell_type": "code",
   "execution_count": 113,
   "metadata": {},
   "outputs": [
    {
     "name": "stdout",
     "output_type": "stream",
     "text": [
      "relations:\n",
      "no relations found\n",
      "\n",
      "top-level projections:\n",
      "(t1, a, a, None)\n",
      "\n",
      "base tables:\n",
      "{'.t1': 't1'}\n",
      "\n",
      "H:\n",
      "\n",
      "\n",
      ".t1.a | (t1, a, a, None) -> None\n"
     ]
    }
   ],
   "source": [
    "test('q2.json')"
   ]
  },
  {
   "cell_type": "code",
   "execution_count": 114,
   "metadata": {},
   "outputs": [
    {
     "name": "stdout",
     "output_type": "stream",
     "text": [
      "relations:\n",
      "t1.a = t2.b\n",
      "\n",
      "top-level projections:\n",
      "(t1, a, a, None)\n",
      "(t2, b, b, None)\n",
      "\n",
      "base tables:\n",
      "{'.t1': 't1', '.t2': 't2'}\n",
      "\n",
      "H:\n",
      "\n",
      "\n",
      ".t1.a | (t1, a, a, None) -> None\n",
      ".t2.b | (t2, b, b, None) -> None\n"
     ]
    }
   ],
   "source": [
    "test('q3.json')"
   ]
  },
  {
   "cell_type": "code",
   "execution_count": 115,
   "metadata": {},
   "outputs": [
    {
     "name": "stdout",
     "output_type": "stream",
     "text": [
      "relations:\n",
      "no relations found\n",
      "\n",
      "top-level projections:\n",
      "(b, a, a, None)\n",
      "\n",
      "base tables:\n",
      "{'.b': 't1'}\n",
      "\n",
      "H:\n",
      "\n",
      "\n",
      ".b.a | (b, a, a, None) -> None\n"
     ]
    }
   ],
   "source": [
    "test('q4.json')"
   ]
  },
  {
   "cell_type": "code",
   "execution_count": 116,
   "metadata": {},
   "outputs": [
    {
     "name": "stdout",
     "output_type": "stream",
     "text": [
      "relations:\n",
      "t1.a = t2.b\n",
      "\n",
      "top-level projections:\n",
      "(t1, a, a, None)\n",
      "(t, b, b, None)\n",
      "\n",
      "base tables:\n",
      "{'.t1': 't1', '.t.t2': 't2'}\n",
      "\n",
      "H:\n",
      "\n",
      "\n",
      ".t1.a | (t1, a, a, None) -> None\n",
      ".t.b | (t, b, b, None) -> .t.t2.b\n",
      "\n",
      ".t.t2.b | (t2, b, b, .t) -> None\n"
     ]
    }
   ],
   "source": [
    "test('q5.json')"
   ]
  },
  {
   "cell_type": "code",
   "execution_count": 117,
   "metadata": {},
   "outputs": [
    {
     "name": "stdout",
     "output_type": "stream",
     "text": [
      "relations:\n",
      "t1.a = t2.b\n",
      "t1.c = t2.d\n",
      "\n",
      "top-level projections:\n",
      "(t1, a, a, None)\n",
      "(t2, b, b, None)\n",
      "\n",
      "base tables:\n",
      "{'.t1.t1': 't1', '.t2': 't2'}\n",
      "\n",
      "H:\n",
      "\n",
      "\n",
      ".t1.a | (t1, a, a, None) -> .t1.t1.a\n",
      ".t2.b | (t2, b, b, None) -> None\n",
      ".t1.c | (t1, c, c, None) -> .t1.t1.c\n",
      ".t2.d | (t2, d, d, None) -> None\n",
      "\n",
      ".t1.t1.a | (t1, a, a, .t1) -> None\n",
      ".t1.t1.c | (t1, c, c, .t1) -> None\n"
     ]
    }
   ],
   "source": [
    "test('q6.json')"
   ]
  },
  {
   "cell_type": "code",
   "execution_count": 118,
   "metadata": {},
   "outputs": [
    {
     "name": "stdout",
     "output_type": "stream",
     "text": [
      "relations:\n",
      "t8.id = t5.id\n",
      "\n",
      "top-level projections:\n",
      "(t1, a, a, None)\n",
      "(t2, a, a, None)\n",
      "\n",
      "base tables:\n",
      "{'.t1.t7.t8': 't8', '.t2.t7.t5': 't5'}\n",
      "\n",
      "H:\n",
      "\n",
      "\n",
      ".t1.a | (t1, a, a, None) -> .t1.t7.a\n",
      ".t2.a | (t2, a, a, None) -> .t2.t7.a\n",
      ".t1.id | (t1, id, id, None) -> .t1.t7.id\n",
      ".t2.id | (t2, id, id, None) -> .t2.t7.id\n",
      "\n",
      ".t1.t7.a | (t7, a, a, .t1) -> .t1.t7.t8.a\n",
      ".t1.t7.id | (t7, id, id, .t1) -> .t1.t7.t8.id\n",
      ".t2.t7.id | (t7, id, id, .t2) -> .t2.t7.t5.id\n",
      ".t2.t7.a | (t7, a, a, .t2) -> .t2.t7.t5.a\n",
      "\n",
      ".t1.t7.t8.a | (t8, a, a, .t1.t7) -> None\n",
      ".t1.t7.t8.id | (t8, id, id, .t1.t7) -> None\n",
      ".t2.t7.t5.id | (t5, id, id, .t2.t7) -> None\n",
      ".t2.t7.t5.a | (t5, a, a, .t2.t7) -> None\n"
     ]
    }
   ],
   "source": [
    "test('q7.json')"
   ]
  },
  {
   "cell_type": "code",
   "execution_count": 119,
   "metadata": {},
   "outputs": [
    {
     "name": "stdout",
     "output_type": "stream",
     "text": [
      "relations:\n",
      "t1.a = t2.c\n",
      "\n",
      "top-level projections:\n",
      "(t1, a, a, None)\n",
      "(t, c, c, None)\n",
      "\n",
      "base tables:\n",
      "{'.t1': 't1', '.t.t3': 't2'}\n",
      "\n",
      "H:\n",
      "\n",
      "\n",
      ".t1.a | (t1, a, a, None) -> None\n",
      ".t.c | (t, c, c, None) -> .t.t3.c\n",
      "\n",
      ".t.t3.b | (t3, b, b, .t) -> None\n",
      ".t.t3.c | (t3, c, c, .t) -> None\n"
     ]
    }
   ],
   "source": [
    "test('q8.json')"
   ]
  },
  {
   "cell_type": "code",
   "execution_count": 120,
   "metadata": {},
   "outputs": [
    {
     "name": "stdout",
     "output_type": "stream",
     "text": [
      "relations:\n",
      "t8.id = t9.id\n",
      "t8.id = t5.id\n",
      "\n",
      "top-level projections:\n",
      "(t1, a, a, None)\n",
      "(t2, a, a, None)\n",
      "\n",
      "base tables:\n",
      "{'.t1.t7.t8': 't8', '.t1.t11.t9': 't9', '.t2.t7.t5': 't5'}\n",
      "\n",
      "H:\n",
      "\n",
      "\n",
      ".t1.a | (t1, a, a, None) -> .t1.t7.a\n",
      ".t2.a | (t2, a, a, None) -> .t2.t7.a\n",
      ".t1.id | (t1, id, id, None) -> .t1.t7.id\n",
      ".t2.id | (t2, id, id, None) -> .t2.t7.id\n",
      "\n",
      ".t1.t7.a | (t7, a, a, .t1) -> .t1.t7.t8.a\n",
      ".t1.t7.id | (t7, id, id, .t1) -> .t1.t7.t8.id\n",
      ".t1.t11.id | (t11, id, id, .t1) -> .t1.t11.t9.id\n",
      ".t2.t7.id | (t7, id, id, .t2) -> .t2.t7.t5.id\n",
      ".t2.t7.a | (t7, a, a, .t2) -> .t2.t7.t5.a\n",
      "\n",
      ".t1.t7.t8.a | (t8, a, a, .t1.t7) -> None\n",
      ".t1.t7.t8.id | (t8, id, id, .t1.t7) -> None\n",
      ".t1.t11.t9.a | (t9, a, a, .t1.t11) -> None\n",
      ".t1.t11.t9.id | (t9, id, id, .t1.t11) -> None\n",
      ".t2.t7.t5.id | (t5, id, id, .t2.t7) -> None\n",
      ".t2.t7.t5.a | (t5, a, a, .t2.t7) -> None\n"
     ]
    }
   ],
   "source": [
    "test('q9.json')"
   ]
  },
  {
   "cell_type": "code",
   "execution_count": 121,
   "metadata": {},
   "outputs": [
    {
     "name": "stdout",
     "output_type": "stream",
     "text": [
      "relations:\n",
      "t1.id = t2.id\n",
      "t1.id = t3.id\n",
      "t3.id = t4.id\n",
      "\n",
      "top-level projections:\n",
      "(t1, a, a, None)\n",
      "(t2, b, b, None)\n",
      "(t3, c, c, None)\n",
      "(t4, d, d, None)\n",
      "\n",
      "base tables:\n",
      "{'.t1': 't1', '.t2': 't2', '.t3': 't3', '.t4': 't4'}\n",
      "\n",
      "H:\n",
      "\n",
      "\n",
      ".t1.a | (t1, a, a, None) -> None\n",
      ".t2.b | (t2, b, b, None) -> None\n",
      ".t3.c | (t3, c, c, None) -> None\n",
      ".t4.d | (t4, d, d, None) -> None\n",
      ".t1.id | (t1, id, id, None) -> None\n",
      ".t2.id | (t2, id, id, None) -> None\n",
      ".t3.id | (t3, id, id, None) -> None\n",
      ".t4.id | (t4, id, id, None) -> None\n"
     ]
    }
   ],
   "source": [
    "test('q10.json')"
   ]
  },
  {
   "cell_type": "code",
   "execution_count": 122,
   "metadata": {},
   "outputs": [],
   "source": [
    "jdefs = json.dumps(defs, indent=4)\n",
    "with open('tests/nested_querys/results/defs.json', 'w') as f:\n",
    "    f.write(jdefs)\n",
    "\n",
    "jrels = json.dumps(rels, indent=4)\n",
    "with open('tests/nested_querys/results/rels.json', 'w') as f:\n",
    "    f.write(jrels)"
   ]
  }
 ],
 "metadata": {
  "kernelspec": {
   "display_name": "Python 3",
   "language": "python",
   "name": "python3"
  },
  "language_info": {
   "codemirror_mode": {
    "name": "ipython",
    "version": 3
   },
   "file_extension": ".py",
   "mimetype": "text/x-python",
   "name": "python",
   "nbconvert_exporter": "python",
   "pygments_lexer": "ipython3",
   "version": "3.11.0"
  }
 },
 "nbformat": 4,
 "nbformat_minor": 2
}
