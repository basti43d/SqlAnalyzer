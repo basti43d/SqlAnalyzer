{
 "cells": [
  {
   "cell_type": "code",
   "execution_count": 1,
   "metadata": {},
   "outputs": [],
   "source": [
    "from BuildErm import BuildErm\n",
    "from BuildErm import RRel, LRel\n",
    "from IPython.display import display"
   ]
  },
  {
   "cell_type": "code",
   "execution_count": 2,
   "metadata": {},
   "outputs": [
    {
     "data": {
      "text/html": [
       "<img src=\"https://mermaid.ink/img/ZXJEaWFncmFtCglDVVNUT01FUiB7CgkKfQlPUkRFUiB7CgkKfUNVU1RPTUVSIH1vLS1veyBPUkRFUiA6IHBsYWNlcw==\"/>"
      ],
      "text/plain": [
       "<IPython.core.display.Image object>"
      ]
     },
     "metadata": {},
     "output_type": "display_data"
    }
   ],
   "source": [
    "erm = BuildErm()\n",
    "\n",
    "erm.add_entity('CUSTOMER', [])\n",
    "erm.add_entity('ORDER', [])\n",
    "\n",
    "erm.add_relation(('CUSTOMER', LRel.ZEROORMORE, RRel.ZEROORMORE, 'ORDER', 'places'))\n",
    "erm.build_graph()\n",
    "display(erm.get_as_image())\n",
    "\n"
   ]
  }
 ],
 "metadata": {
  "kernelspec": {
   "display_name": "Python 3",
   "language": "python",
   "name": "python3"
  },
  "language_info": {
   "codemirror_mode": {
    "name": "ipython",
    "version": 3
   },
   "file_extension": ".py",
   "mimetype": "text/x-python",
   "name": "python",
   "nbconvert_exporter": "python",
   "pygments_lexer": "ipython3",
   "version": "3.11.0"
  }
 },
 "nbformat": 4,
 "nbformat_minor": 2
}
