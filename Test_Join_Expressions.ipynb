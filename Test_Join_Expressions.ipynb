{
 "cells": [
  {
   "cell_type": "code",
   "execution_count": null,
   "metadata": {},
   "outputs": [],
   "source": [
    "from QueryAnalyzing.AnalyzeAst import AnalyzeAst\n",
    "from os.path import join"
   ]
  },
  {
   "cell_type": "code",
   "execution_count": 8,
   "metadata": {},
   "outputs": [],
   "source": [
    "path = 'c:\\\\users\\\\basti\\\\desktop\\\\ba\\\\tests\\\\pk_joins\\\\asts'\n",
    "ana = AnalyzeAst()\n",
    "#files = [f for f in listdir(path) if isfile(join(path, f))]\n",
    "\n",
    "def dissolve_joins(path):\n",
    "    with open(path, 'r') as f:\n",
    "        ast = f.read()\n",
    "    ana.set_ast(ast)\n",
    "    ana.dissolve_query()\n",
    "    return ana.relations"
   ]
  },
  {
   "cell_type": "code",
   "execution_count": 9,
   "metadata": {},
   "outputs": [
    {
     "name": "stdout",
     "output_type": "stream",
     "text": [
      "[[(('t1', 'id'), ('t2', 'id'))]]\n"
     ]
    }
   ],
   "source": [
    "#einfache join-condition, nur PK\n",
    "path1 = join(path, 'test1.json')\n",
    "rel = dissolve_joins(path1)\n",
    "print(rel)"
   ]
  },
  {
   "cell_type": "code",
   "execution_count": 10,
   "metadata": {},
   "outputs": [
    {
     "data": {
      "text/plain": [
       "[[(('t1', 'id1'), ('t2', 'id1')), (('t1', 'id2'), ('t2', 'id2'))]]"
      ]
     },
     "execution_count": 10,
     "metadata": {},
     "output_type": "execute_result"
    }
   ],
   "source": [
    "#mehrere join-conditions\n",
    "path1 = join(path, 'test2.json')\n",
    "dissolve_joins(path1)"
   ]
  },
  {
   "cell_type": "code",
   "execution_count": 11,
   "metadata": {},
   "outputs": [
    {
     "data": {
      "text/plain": [
       "[[(('t4', 'id1'), ('t3', 'id2'))], [(('t1', 'id'), ('t4', 'id1'))]]"
      ]
     },
     "execution_count": 11,
     "metadata": {},
     "output_type": "execute_result"
    }
   ],
   "source": [
    "#mehrere join-conditions\n",
    "path1 = join(path, 'test3.json')\n",
    "dissolve_joins(path1)"
   ]
  },
  {
   "cell_type": "code",
   "execution_count": 13,
   "metadata": {},
   "outputs": [
    {
     "data": {
      "text/plain": [
       "[[(('t1', 'id1'), ('t2', 'id1')), (('t1', 'id2'), ('t2', 'id2'))]]"
      ]
     },
     "execution_count": 13,
     "metadata": {},
     "output_type": "execute_result"
    }
   ],
   "source": [
    "#joins mit sub-expression\n",
    "path1 = join(path, 'test4.json')\n",
    "dissolve_joins(path1)"
   ]
  },
  {
   "cell_type": "code",
   "execution_count": 14,
   "metadata": {},
   "outputs": [
    {
     "data": {
      "text/plain": [
       "[[(('t1', 'id1'), ('t2', 'id1')), (('t1', 'id2'), ('t2', 'id2'))]]"
      ]
     },
     "execution_count": 14,
     "metadata": {},
     "output_type": "execute_result"
    }
   ],
   "source": [
    "#joins mit operatoren != '=='\n",
    "path1 = join(path, 'test5.json')\n",
    "dissolve_joins(path1)"
   ]
  },
  {
   "cell_type": "code",
   "execution_count": 15,
   "metadata": {},
   "outputs": [
    {
     "data": {
      "text/plain": [
       "[[]]"
      ]
     },
     "execution_count": 15,
     "metadata": {},
     "output_type": "execute_result"
    }
   ],
   "source": [
    "#joins mit 'or' auf oberster ebene\n",
    "path1 = join(path, 'test6.json')\n",
    "dissolve_joins(path1)"
   ]
  },
  {
   "cell_type": "code",
   "execution_count": 17,
   "metadata": {},
   "outputs": [
    {
     "data": {
      "text/plain": [
       "[[(('t1', 'id1'), ('t2', 'id1'))]]"
      ]
     },
     "execution_count": 17,
     "metadata": {},
     "output_type": "execute_result"
    }
   ],
   "source": [
    "#joins mit konstanten-vergleich\n",
    "path1 = join(path, 'test7.json')\n",
    "dissolve_joins(path1)"
   ]
  }
 ],
 "metadata": {
  "kernelspec": {
   "display_name": "Python 3",
   "language": "python",
   "name": "python3"
  },
  "language_info": {
   "codemirror_mode": {
    "name": "ipython",
    "version": 3
   },
   "file_extension": ".py",
   "mimetype": "text/x-python",
   "name": "python",
   "nbconvert_exporter": "python",
   "pygments_lexer": "ipython3",
   "version": "3.11.0"
  }
 },
 "nbformat": 4,
 "nbformat_minor": 2
}
